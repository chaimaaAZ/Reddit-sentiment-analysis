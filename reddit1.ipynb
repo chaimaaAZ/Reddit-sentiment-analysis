{
 "cells": [
  {
   "cell_type": "code",
   "execution_count": 1,
   "metadata": {},
   "outputs": [],
   "source": [
    "from praw import Reddit\n",
    "from praw.models import Subreddit, Submission\n",
    "import os\n",
    "from dotenv import dotenv_values  \n",
    "from dotenv import load_dotenv\n",
    "from datetime import datetime, date, timedelta\n",
    "import praw\n",
    "import pandas as pd"
   ]
  },
  {
   "cell_type": "markdown",
   "metadata": {},
   "source": [
    "# Merging Datasets"
   ]
  },
  {
   "cell_type": "code",
   "execution_count": 42,
   "metadata": {},
   "outputs": [],
   "source": [
    "path = r'C:\\Users\\Dell\\ENSIAS\\S5\\Network analysis\\Reddit-sentiment-analysis\\datasets'\n",
    "csv_files = [file for file in os.listdir(path) if file.endswith('.csv')]"
   ]
  },
  {
   "cell_type": "code",
   "execution_count": 43,
   "metadata": {},
   "outputs": [],
   "source": [
    "dataframes = []\n",
    "\n",
    "for file in csv_files:\n",
    "    df = pd.read_csv(os.path.join(path, file))\n",
    "    dataframes.append(df)\n",
    "\n",
    "merged_df = pd.concat(dataframes, ignore_index=True)\n",
    "merged_df.to_csv('full_dataset.csv', index=False)\n",
    "full_dataset = merged_df\n"
   ]
  },
  {
   "cell_type": "code",
   "execution_count": 44,
   "metadata": {},
   "outputs": [],
   "source": [
    "full_dataset['post_created'] = pd.to_datetime(full_dataset['post_created'], format='%Y-%m-%d %H:%M:%S')\n",
    "\n",
    "full_dataset = full_dataset.sort_values(by='post_created')\n",
    "\n",
    "full_dataset = full_dataset.drop_duplicates(subset=['post_id', 'comment_id'], keep='first')\n",
    "\n",
    "full_dataset.to_csv('full_dataset.csv', index=False)"
   ]
  },
  {
   "cell_type": "code",
   "execution_count": null,
   "metadata": {},
   "outputs": [
    {
     "name": "stderr",
     "output_type": "stream",
     "text": [
      "C:\\Users\\Dell\\AppData\\Local\\Temp\\ipykernel_9676\\3109076383.py:1: DtypeWarning: Columns (10) have mixed types. Specify dtype option on import or set low_memory=False.\n",
      "  full_df = pd.read_csv(\"full_dataset.csv\")\n"
     ]
    }
   ],
   "source": [
    "full_df = pd.read_csv(\"full_dataset.csv\")\n",
    "full_df['company'] = full_df['matched_keyword'].fillna(full_df['matched_keywords'])\n",
    "full_df.drop(columns=['matched_keyword', 'matched_keywords'], inplace=True)\n",
    "keywords = [\"Uber\", \"youtube\", \"meta\", \"apple\", \"nvidia\", \"microsoft\", \"amazon\", \"Saudi Arabian Oil Co\", \"intel\", \"tesla\", \"MARA Holdings\"]\n",
    "company_dfs = {company: full_df[full_df['company'] == company] for company in full_df['company'].unique()}\n",
    "full_df.to_csv(\"full_dataset_updated.csv\", index=False)"
   ]
  },
  {
   "cell_type": "code",
   "execution_count": null,
   "metadata": {},
   "outputs": [],
   "source": [
    "for company_name in keywords:\n",
    "    company_df = company_dfs.get(company_name)\n",
    "    \n",
    "    globals()[company_name] = company_df\n",
    "    \n",
    "globals()[\"tesla\"].head()"
   ]
  }
 ],
 "metadata": {
  "kernelspec": {
   "display_name": "venv_name",
   "language": "python",
   "name": "python3"
  },
  "language_info": {
   "codemirror_mode": {
    "name": "ipython",
    "version": 3
   },
   "file_extension": ".py",
   "mimetype": "text/x-python",
   "name": "python",
   "nbconvert_exporter": "python",
   "pygments_lexer": "ipython3",
   "version": "3.10.11"
  }
 },
 "nbformat": 4,
 "nbformat_minor": 2
}
