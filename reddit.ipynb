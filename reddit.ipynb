{
 "cells": [
  {
   "cell_type": "code",
   "execution_count": 1,
   "metadata": {},
   "outputs": [],
   "source": [
    "from praw import Reddit\n",
    "from praw.models import Subreddit, Submission\n",
    "import os\n",
    "from dotenv import load_dotenv\n",
    "from datetime import datetime, date, timedelta\n",
    "import praw\n",
    "import pandas as pd"
   ]
  },
  {
   "cell_type": "code",
   "execution_count": 2,
   "metadata": {},
   "outputs": [
    {
     "name": "stderr",
     "output_type": "stream",
     "text": [
      "Version 7.7.1 of praw is outdated. Version 7.8.1 was released Friday October 25, 2024.\n"
     ]
    },
    {
     "name": "stdout",
     "output_type": "stream",
     "text": [
      "Fetching posts for keyword: Uber\n"
     ]
    },
    {
     "name": "stderr",
     "output_type": "stream",
     "text": [
      "/tmp/ipykernel_38906/4009646819.py:28: DeprecationWarning: datetime.datetime.utcfromtimestamp() is deprecated and scheduled for removal in a future version. Use timezone-aware objects to represent datetimes in UTC: datetime.datetime.fromtimestamp(timestamp, datetime.UTC).\n",
      "  post_date = datetime.utcfromtimestamp(post.created)\n"
     ]
    },
    {
     "name": "stdout",
     "output_type": "stream",
     "text": [
      "Fetching posts for keyword: youtube\n",
      "Fetching posts for keyword: meta\n",
      "Fetching posts for keyword: apple\n",
      "Fetching posts for keyword: nvidia\n",
      "Fetching posts for keyword: microsoft\n",
      "Fetching posts for keyword: amazon\n",
      "Fetching posts for keyword: Saudi Arabian Oil Co\n",
      "Fetching posts for keyword: intel\n",
      "Fetching posts for keyword: tesla\n",
      "Fetching posts for keyword: MARA Holdings\n",
      "Date range: from 2024-03-01 03:45:26 to 2024-04-30 20:07:29\n"
     ]
    }
   ],
   "source": [
    "import praw\n",
    "from datetime import datetime, timedelta\n",
    "from dotenv import dotenv_values\n",
    "import pandas as pd\n",
    "\n",
    "# Load environment variables\n",
    "config = dotenv_values(\".env\")\n",
    "\n",
    "# Initialize Reddit API\n",
    "reddit = praw.Reddit(\n",
    "    client_id=config[\"CLIENT_ID\"],\n",
    "    client_secret=config[\"CLIENT_SECRET\"],\n",
    "    user_agent=config[\"USER_AGENT\"]\n",
    ")\n",
    "\n",
    "def fetch_posts_about_keywords(subreddit_name, keywords, limit=500000):\n",
    "    subreddit = reddit.subreddit(subreddit_name)\n",
    "    data = []\n",
    "    \n",
    "    # Define the date range for March and April (2024)\n",
    "    today = datetime(2024, 4, 30, 23, 59, 59)  # End of April\n",
    "    start_date = datetime(2024, 3, 1)  # Start of March\n",
    "    \n",
    "    # Iterate through each keyword\n",
    "    for keyword in keywords:\n",
    "        print(f\"Fetching posts for keyword: {keyword}\")\n",
    "        for post in subreddit.search(keyword, time_filter='all', limit=limit):\n",
    "            post_date = datetime.utcfromtimestamp(post.created)\n",
    "            \n",
    "            # Check if the post is within the desired time range\n",
    "            if start_date <= post_date <= today:\n",
    "                post.comments.replace_more(limit=0)\n",
    "                comments = post.comments.list()\n",
    "\n",
    "                for comment in comments:\n",
    "                    data.append({\n",
    "                        'post_title': post.title,\n",
    "                        'post_score': post.score,\n",
    "                        'post_id': post.id,\n",
    "                        'post_num_comments': post.num_comments,\n",
    "                        'post_created': post_date,\n",
    "                        'post_body': post.selftext,\n",
    "                        'comment_id': comment.id,\n",
    "                        'comment_body': comment.body,\n",
    "                        'comment_score': comment.score,\n",
    "                        'matched_keyword': keyword\n",
    "                    })\n",
    "    \n",
    "    return data\n",
    "\n",
    "subreddit_name = \"stocks\"\n",
    "keywords = [\"Uber\", \"youtube\", \"meta\", \"apple\", \"nvidia\", \"microsoft\", \"amazon\", \"Saudi Arabian Oil Co\", \"intel\", \"tesla\", \"MARA Holdings\"]\n",
    "\n",
    "# Fetch posts from March and April 2024\n",
    "data = fetch_posts_about_keywords(subreddit_name, keywords, limit=500000)\n",
    "\n",
    "# Create DataFrame and save to CSV\n",
    "df = pd.DataFrame(data)\n",
    "df.to_csv(\"march_april_reddit_comments.csv\", index=False)\n",
    "\n",
    "# Display the date range of the fetched posts\n",
    "if not df.empty:\n",
    "    date_range = df['post_created'].agg(['min', 'max'])\n",
    "    print(f\"Date range: from {date_range['min']} to {date_range['max']}\")\n",
    "else:\n",
    "    print(\"No data found for the specified range.\")\n"
   ]
  },
  {
   "cell_type": "code",
   "execution_count": 3,
   "metadata": {},
   "outputs": [
    {
     "name": "stdout",
     "output_type": "stream",
     "text": [
      "Date range: from 2024-03-01 03:45:26 to 2024-04-30 20:07:29\n"
     ]
    }
   ],
   "source": [
    "if not df.empty:\n",
    "    date_range = df['post_created'].agg(['min', 'max'])\n",
    "    print(f\"Date range: from {date_range['min']} to {date_range['max']}\")\n",
    "else:\n",
    "    print(\"No data found for the specified range.\")"
   ]
  },
  {
   "cell_type": "code",
   "execution_count": 4,
   "metadata": {},
   "outputs": [
    {
     "data": {
      "text/html": [
       "<div>\n",
       "<style scoped>\n",
       "    .dataframe tbody tr th:only-of-type {\n",
       "        vertical-align: middle;\n",
       "    }\n",
       "\n",
       "    .dataframe tbody tr th {\n",
       "        vertical-align: top;\n",
       "    }\n",
       "\n",
       "    .dataframe thead th {\n",
       "        text-align: right;\n",
       "    }\n",
       "</style>\n",
       "<table border=\"1\" class=\"dataframe\">\n",
       "  <thead>\n",
       "    <tr style=\"text-align: right;\">\n",
       "      <th></th>\n",
       "      <th>post_score</th>\n",
       "      <th>post_num_comments</th>\n",
       "      <th>post_created</th>\n",
       "      <th>comment_score</th>\n",
       "    </tr>\n",
       "  </thead>\n",
       "  <tbody>\n",
       "    <tr>\n",
       "      <th>count</th>\n",
       "      <td>23989.000000</td>\n",
       "      <td>23989.000000</td>\n",
       "      <td>23989</td>\n",
       "      <td>23989.000000</td>\n",
       "    </tr>\n",
       "    <tr>\n",
       "      <th>mean</th>\n",
       "      <td>1343.609113</td>\n",
       "      <td>428.184751</td>\n",
       "      <td>2024-03-31 08:08:52.474926080</td>\n",
       "      <td>13.364542</td>\n",
       "    </tr>\n",
       "    <tr>\n",
       "      <th>min</th>\n",
       "      <td>0.000000</td>\n",
       "      <td>4.000000</td>\n",
       "      <td>2024-03-01 03:45:26</td>\n",
       "      <td>-103.000000</td>\n",
       "    </tr>\n",
       "    <tr>\n",
       "      <th>25%</th>\n",
       "      <td>440.000000</td>\n",
       "      <td>225.000000</td>\n",
       "      <td>2024-03-18 16:10:05</td>\n",
       "      <td>1.000000</td>\n",
       "    </tr>\n",
       "    <tr>\n",
       "      <th>50%</th>\n",
       "      <td>937.000000</td>\n",
       "      <td>352.000000</td>\n",
       "      <td>2024-03-30 18:49:49</td>\n",
       "      <td>2.000000</td>\n",
       "    </tr>\n",
       "    <tr>\n",
       "      <th>75%</th>\n",
       "      <td>1687.000000</td>\n",
       "      <td>637.000000</td>\n",
       "      <td>2024-04-15 20:15:02</td>\n",
       "      <td>7.000000</td>\n",
       "    </tr>\n",
       "    <tr>\n",
       "      <th>max</th>\n",
       "      <td>9017.000000</td>\n",
       "      <td>1690.000000</td>\n",
       "      <td>2024-04-30 20:07:29</td>\n",
       "      <td>5827.000000</td>\n",
       "    </tr>\n",
       "    <tr>\n",
       "      <th>std</th>\n",
       "      <td>1502.427084</td>\n",
       "      <td>296.515615</td>\n",
       "      <td>NaN</td>\n",
       "      <td>73.317834</td>\n",
       "    </tr>\n",
       "  </tbody>\n",
       "</table>\n",
       "</div>"
      ],
      "text/plain": [
       "         post_score  post_num_comments                   post_created  \\\n",
       "count  23989.000000       23989.000000                          23989   \n",
       "mean    1343.609113         428.184751  2024-03-31 08:08:52.474926080   \n",
       "min        0.000000           4.000000            2024-03-01 03:45:26   \n",
       "25%      440.000000         225.000000            2024-03-18 16:10:05   \n",
       "50%      937.000000         352.000000            2024-03-30 18:49:49   \n",
       "75%     1687.000000         637.000000            2024-04-15 20:15:02   \n",
       "max     9017.000000        1690.000000            2024-04-30 20:07:29   \n",
       "std     1502.427084         296.515615                            NaN   \n",
       "\n",
       "       comment_score  \n",
       "count   23989.000000  \n",
       "mean       13.364542  \n",
       "min      -103.000000  \n",
       "25%         1.000000  \n",
       "50%         2.000000  \n",
       "75%         7.000000  \n",
       "max      5827.000000  \n",
       "std        73.317834  "
      ]
     },
     "execution_count": 4,
     "metadata": {},
     "output_type": "execute_result"
    }
   ],
   "source": [
    "df.describe()"
   ]
  },
  {
   "cell_type": "code",
   "execution_count": 5,
   "metadata": {},
   "outputs": [
    {
     "data": {
      "text/plain": [
       "Index(['post_title', 'post_score', 'post_id', 'post_num_comments',\n",
       "       'post_created', 'post_body', 'comment_id', 'comment_body',\n",
       "       'comment_score', 'matched_keyword'],\n",
       "      dtype='object')"
      ]
     },
     "execution_count": 5,
     "metadata": {},
     "output_type": "execute_result"
    }
   ],
   "source": [
    "df.columns"
   ]
  },
  {
   "cell_type": "code",
   "execution_count": null,
   "metadata": {},
   "outputs": [],
   "source": []
  }
 ],
 "metadata": {
  "kernelspec": {
   "display_name": "Python 3",
   "language": "python",
   "name": "python3"
  },
  "language_info": {
   "codemirror_mode": {
    "name": "ipython",
    "version": 3
   },
   "file_extension": ".py",
   "mimetype": "text/x-python",
   "name": "python",
   "nbconvert_exporter": "python",
   "pygments_lexer": "ipython3",
   "version": "3.12.3"
  }
 },
 "nbformat": 4,
 "nbformat_minor": 2
}
