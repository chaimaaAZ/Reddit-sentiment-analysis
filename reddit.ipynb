{
 "cells": [
  {
   "cell_type": "code",
   "execution_count": 12,
   "metadata": {},
   "outputs": [],
   "source": [
    "from praw import Reddit\n",
    "from praw.models import Subreddit, Submission\n",
    "import os\n",
    "from dotenv import load_dotenv\n",
    "from datetime import datetime, date, timedelta\n",
    "from dotenv import dotenv_values\n",
    "import datetime as dt\n",
    "import pandas as pd\n"
   ]
  },
  {
   "cell_type": "code",
   "execution_count": null,
   "metadata": {},
   "outputs": [],
   "source": [
    "# Load environment variables\n",
    "config = dotenv_values(\".env\")\n",
    "\n",
    "# Initialize Reddit API\n",
    "reddit = Reddit(\n",
    "    client_id=config[\"CLIENT_ID\"],\n",
    "    client_secret=config[\"CLIENT_SECRET\"],\n",
    "    redirect_uri=config[\"REDIRECT_URL\"],\n",
    "    user_agent=config[\"USER_AGENT\"]\n",
    ")\n",
    "\n",
    "def fetch_posts_about_keyword(subreddit_name, keywords, limit):\n",
    "    keyword_to_company = {\n",
    "        \"Uber\": \"Uber\",\n",
    "        \"youtube\": \"YouTube\",\n",
    "        \"meta\": \"Meta\",\n",
    "        \"apple\": \"Apple\",\n",
    "        \"nvidia\": \"NVIDIA\",\n",
    "        \"microsoft\": \"Microsoft\",\n",
    "        \"amazon\": \"Amazon\",\n",
    "        \"Saudi Arabian Oil Co\": \"Saudi Arabian Oil Co\",\n",
    "        \"intel\": \"Intel\",\n",
    "        \"tesla\": \"Tesla\",\n",
    "        \"MARA Holdings\": \"MARA Holdings\"\n",
    "    }\n",
    "    \n",
    "    subreddit = reddit.subreddit(subreddit_name)\n",
    "    data = []\n",
    "    for post in subreddit.hot(limit=limit):\n",
    "        \n",
    "        matching_keywords = [keyword for keyword in keywords if keyword.lower() in post.title.lower()]\n",
    "\n",
    "        for keyword in keywords:\n",
    "            if keyword.lower() in post.title.lower():\n",
    "                post.comments.replace_more(limit=0)\n",
    "                comments = post.comments.list()\n",
    "\n",
    "                for comment in comments:\n",
    "                    data.append({\n",
    "                        'post_title': post.title,\n",
    "                        'post_score': post.score,\n",
    "                        'post_id': post.id,\n",
    "                        'post_num_comments': post.num_comments,\n",
    "                        'post_created': post.created,\n",
    "                        'post_body': post.selftext,\n",
    "                        'comment_id': comment.id,\n",
    "                        'comment_body': comment.body,\n",
    "                        'comment_score': comment.score,\n",
    "                        'matched_keywords': \", \".join(matching_keywords)\n",
    "                    })\n",
    "                break \n",
    "\n",
    "    return data\n",
    "\n",
    "\n",
    "subreddit_name = \"stocks\"  \n",
    "keywords = [\"Uber\", \"youtube\", \"meta\", \"apple\", \"nvidia\", \"microsoft\", \"amazon\", \"Saudi Arabian Oil Co\", \"intel\", \"tesla\", \"MARA Holdings\"]\n",
    "data = fetch_posts_about_keyword(subreddit_name, keywords, limit=500000)\n",
    "\n",
    "\n",
    "df = pd.DataFrame(data)\n",
    "df.to_csv(\"Reddit_comments.csv\", index=False)"
   ]
  },
  {
   "cell_type": "code",
   "execution_count": null,
   "metadata": {},
   "outputs": [],
   "source": []
  }
 ],
 "metadata": {
  "kernelspec": {
   "display_name": "Python 3",
   "language": "python",
   "name": "python3"
  },
  "language_info": {
   "codemirror_mode": {
    "name": "ipython",
    "version": 3
   },
   "file_extension": ".py",
   "mimetype": "text/x-python",
   "name": "python",
   "nbconvert_exporter": "python",
   "pygments_lexer": "ipython3",
   "version": "3.10.8"
  }
 },
 "nbformat": 4,
 "nbformat_minor": 2
}
