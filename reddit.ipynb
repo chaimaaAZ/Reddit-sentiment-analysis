{
 "cells": [
  {
   "cell_type": "code",
   "execution_count": null,
   "metadata": {},
   "outputs": [
    {
     "name": "stdout",
     "output_type": "stream",
     "text": [
      "Data saved to Reddit_comments.csv\n"
     ]
    }
   ],
   "source": [
    "import praw\n",
    "import pandas as pd\n",
    "\n",
    "# Initialize the Reddit client\n",
    "reddit = praw.Reddit(\n",
    "    client_id=\"4chqKwmOdorSuyav7KTIMg\",      # Replace with your client ID\n",
    "    client_secret=\"hI_HHldkP4pvfAsJ4xH9pWAkhGIn0g\",  # Replace with your client secret\n",
    "    user_agent=\"Sentiment-analysis\",      \n",
    ")\n",
    "\n",
    "# Fetch posts from a subreddit with a keyword filter\n",
    "def fetch_posts_about_keyword(subreddit_name, keywords, limit=1000):\n",
    "    subreddit = reddit.subreddit(subreddit_name)\n",
    "    data = []\n",
    "    \n",
    "    for post in subreddit.hot(limit=limit):  # You can use new, top, etc.\n",
    "        if any(keyword.lower() in (post.title + post.selftext).lower() for keyword in keywords):\n",
    "            # Extract the post's comments\n",
    "            post.comments.replace_more(limit=0)  # Replace 'more comments' placeholders\n",
    "            comments = post.comments.list()  # Get all comments as a list\n",
    "            \n",
    "            for comment in comments:  # Create a row for each comment\n",
    "                data.append({\n",
    "                    'post_title': post.title,\n",
    "                    'post_score': post.score,\n",
    "                    'post_id': post.id,\n",
    "                    'post_num_comments': post.num_comments,\n",
    "                    'post_created': post.created,\n",
    "                    'post_body': post.selftext,\n",
    "                    'comment_id': comment.id,  # Add comment ID\n",
    "                    'comment_body': comment.body, \n",
    "                    'comment_score': comment.score  \n",
    "                })\n",
    "    \n",
    "    return data\n",
    "\n",
    "# Example usage\n",
    "subreddit_name = \"stocks\"  # Replace with your subreddit of interest\n",
    "keywords = [\"Uber\", \"youtube\", \"meta\", \"apple\", \"nvidia\", \"microsoft\", \"amazon\", \"Saudi Arabian Oil Co\", \"intel\", \"tesla\", \"MARA Holdings\"]\n",
    "data = fetch_posts_about_keyword(subreddit_name, keywords, limit=100)\n",
    "\n",
    "# Save to a DataFrame\n",
    "df = pd.DataFrame(data)\n",
    "df.to_csv(\"Reddit_comments.csv\", index=False)\n",
    "\n",
    "print(\"Data saved to Reddit_comments.csv\")\n"
   ]
  },
  {
   "cell_type": "code",
   "execution_count": null,
   "metadata": {},
   "outputs": [],
   "source": []
  }
 ],
 "metadata": {
  "kernelspec": {
   "display_name": "Python 3",
   "language": "python",
   "name": "python3"
  },
  "language_info": {
   "codemirror_mode": {
    "name": "ipython",
    "version": 3
   },
   "file_extension": ".py",
   "mimetype": "text/x-python",
   "name": "python",
   "nbconvert_exporter": "python",
   "pygments_lexer": "ipython3",
   "version": "3.10.8"
  }
 },
 "nbformat": 4,
 "nbformat_minor": 2
}
